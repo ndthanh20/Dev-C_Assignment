{
  "nbformat": 4,
  "nbformat_minor": 0,
  "metadata": {
    "colab": {
      "name": "Week 1 Assignment- Nguyễn Duy Thành.ipynb",
      "provenance": [],
      "collapsed_sections": [],
      "toc_visible": true
    },
    "kernelspec": {
      "name": "python3",
      "display_name": "Python 3"
    }
  },
  "cells": [
    {
      "cell_type": "markdown",
      "metadata": {
        "id": "K-UTH5d-XiQC",
        "colab_type": "text"
      },
      "source": [
        "#SQL\n"
      ]
    },
    {
      "cell_type": "markdown",
      "metadata": {
        "id": "WD0e6TnIW9Hu",
        "colab_type": "text"
      },
      "source": [
        "##Task 1\n",
        "Query all columns for a city in CITY with the ID 1661.\n",
        "\n",
        "Input Format\n",
        "\n",
        "The CITY table is described as follows: <br>\n",
        "<img src = \"https://s3.amazonaws.com/hr-challenge-images/8137/1449729804-f21d187d0f-CITY.jpg\">\n",
        "\n",
        "1.   List item\n",
        "2.   List item\n",
        "\n"
      ]
    },
    {
      "cell_type": "code",
      "metadata": {
        "id": "p0rJqNfy1g9Q",
        "colab_type": "code",
        "colab": {}
      },
      "source": [
        "SELECT *\n",
        "FROM CITY \n",
        "WHERE ID = 1661;"
      ],
      "execution_count": null,
      "outputs": []
    },
    {
      "cell_type": "code",
      "metadata": {
        "id": "QCTx1qaZbV0T",
        "colab_type": "code",
        "colab": {}
      },
      "source": [
        ""
      ],
      "execution_count": null,
      "outputs": []
    },
    {
      "cell_type": "markdown",
      "metadata": {
        "id": "f6A9keYQXtfC",
        "colab_type": "text"
      },
      "source": [
        "##Task 2\n",
        "Query all columns for all American cities in CITY with populations larger than 100000. The CountryCode for America is USA.\n",
        "\n",
        "Input Format<br>\n",
        "<img src = \"https://s3.amazonaws.com/hr-challenge-images/8137/1449729804-f21d187d0f-CITY.jpg\">\n"
      ]
    },
    {
      "cell_type": "code",
      "metadata": {
        "id": "2AeLf7ooX7O-",
        "colab_type": "code",
        "colab": {}
      },
      "source": [
        "SELECT *\n",
        "FROM CITY\n",
        "WHERE COUNTRYCODE LIKE \"USA\"\n",
        "  AND POPULATION > 100000;"
      ],
      "execution_count": null,
      "outputs": []
    },
    {
      "cell_type": "markdown",
      "metadata": {
        "id": "r69LByLtYCY0",
        "colab_type": "text"
      },
      "source": [
        "##Task 3\n",
        "Query all attributes of every Japanese city in the CITY table. The COUNTRYCODE for Japan is JPN.\n",
        "\n",
        "Input Format:<br>\n",
        "<img src = \"https://s3.amazonaws.com/hr-challenge-images/8137/1449729804-f21d187d0f-CITY.jpg\">"
      ]
    },
    {
      "cell_type": "code",
      "metadata": {
        "id": "olzcFs4-YVm6",
        "colab_type": "code",
        "colab": {}
      },
      "source": [
        "SELECT * \n",
        "FROM CITY\n",
        "WHERE COUNTRYCODE LIKE \"JPN\";"
      ],
      "execution_count": null,
      "outputs": []
    },
    {
      "cell_type": "markdown",
      "metadata": {
        "id": "kNb_l0BAYqQY",
        "colab_type": "text"
      },
      "source": [
        "##Task 4\n",
        "Query the names of all the Japanese cities in the CITY table. The COUNTRYCODE for Japan is JPN.\n",
        "\n",
        "Input Format<br>\n",
        "<img src = \"https://s3.amazonaws.com/hr-challenge-images/8137/1449729804-f21d187d0f-CITY.jpg\">\n"
      ]
    },
    {
      "cell_type": "code",
      "metadata": {
        "id": "SGkB1ac5Y8C2",
        "colab_type": "code",
        "colab": {}
      },
      "source": [
        "SELECT NAME\n",
        "FROM CITY\n",
        "WHERE COUNTRYCODE LIKE \"JPN\";"
      ],
      "execution_count": null,
      "outputs": []
    },
    {
      "cell_type": "markdown",
      "metadata": {
        "id": "G_YzuI-hZBeL",
        "colab_type": "text"
      },
      "source": [
        "##Task 5\n",
        "Query a list of CITY and STATE from the STATION table.\n",
        "\n",
        "Input Format\n",
        "\n",
        "The STATION table is described as follows:<br>\n",
        "<img src = 'https://s3.amazonaws.com/hr-challenge-images/9336/1449345840-5f0a551030-Station.jpg'>"
      ]
    },
    {
      "cell_type": "code",
      "metadata": {
        "id": "1WxKBKUOZNUQ",
        "colab_type": "code",
        "colab": {}
      },
      "source": [
        "SELECT CITY, STATE \n",
        "FROM STATION;"
      ],
      "execution_count": null,
      "outputs": []
    },
    {
      "cell_type": "markdown",
      "metadata": {
        "id": "OqMKxr4hZSBn",
        "colab_type": "text"
      },
      "source": [
        "##Task 6\n",
        "Query a list of CITY names from STATION with even ID numbers only. You may print the results in any order, but must exclude duplicates from your answer.\n",
        "\n",
        "Input Format\n",
        "\n",
        "The STATION table is described as follows:<br>\n",
        "<img src =\"https://s3.amazonaws.com/hr-challenge-images/9336/1449345840-5f0a551030-Station.jpg\">\n"
      ]
    },
    {
      "cell_type": "code",
      "metadata": {
        "id": "OOF-_k34Zg3U",
        "colab_type": "code",
        "colab": {}
      },
      "source": [
        "SELECT DISTINCT CITY\n",
        "FROM STATION \n",
        "WHERE ID % 2 = 0;"
      ],
      "execution_count": null,
      "outputs": []
    },
    {
      "cell_type": "markdown",
      "metadata": {
        "id": "ZcN5Ns0fZnT9",
        "colab_type": "text"
      },
      "source": [
        "Let  be the number of CITY entries in STATION, and let  be the number of distinct CITY names in STATION; query the value of  from STATION. In other words, find the difference between the total number of CITY entries in the table and the number of distinct CITY entries in the table.\n",
        "\n",
        "Input Format\n",
        "\n",
        "The STATION table is described as follows:<br>\n",
        "<img src = \"https://s3.amazonaws.com/hr-challenge-images/9336/1449345840-5f0a551030-Station.jpg\"><br>\n",
        "where LAT_N is the northern latitude and LONG_W is the western longitude."
      ]
    },
    {
      "cell_type": "code",
      "metadata": {
        "id": "J8Hcjsl6lVW8",
        "colab_type": "code",
        "colab": {}
      },
      "source": [
        "SELECT COUNT(CITY) - COUNT(DISTINCT CITY) \n",
        "FROM STATION;"
      ],
      "execution_count": null,
      "outputs": []
    },
    {
      "cell_type": "markdown",
      "metadata": {
        "id": "8fWTW_yflyCC",
        "colab_type": "text"
      },
      "source": [
        "##Task 7\n",
        "Query the two cities in STATION with the shortest and longest CITY names, as well as their respective lengths (i.e.: number of characters in the name). If there is more than one smallest or largest city, choose the one that comes first when ordered alphabetically.\n",
        "\n",
        "Input Format\n",
        "\n",
        "The STATION table is described as follows:<br>\n",
        "  <img src = \"https://s3.amazonaws.com/hr-challenge-images/9336/1449345840-5f0a551030-Station.jpg\">\n",
        "  "
      ]
    },
    {
      "cell_type": "code",
      "metadata": {
        "id": "zPqGViBgl4mL",
        "colab_type": "code",
        "colab": {}
      },
      "source": [
        "# Query the shortest CITY name\n",
        "SELECT CITY , LENGTH(CITY) as CITY_LENGTH\n",
        "FROM STATION\n",
        "WHERE LENGTH(CITY) = (\n",
        "  SELECT MIN(LENGTH(CITY))\n",
        "  FROM STATION\n",
        ")\n",
        "ORDER BY CITY\n",
        "LIMIT 1;\n",
        "# Query the longest CITY name\n",
        "SELECT CITY , LENGTH(CITY) as CITY_LENGTH\n",
        "FROM STATION\n",
        "WHERE LENGTH(CITY) = (\n",
        "  SELECT MAX(LENGTH(CITY))\n",
        "  FROM STATION\n",
        ")\n",
        "ORDER BY CITY\n",
        "LIMIT 1;"
      ],
      "execution_count": null,
      "outputs": []
    },
    {
      "cell_type": "markdown",
      "metadata": {
        "id": "34DxPDy5l9N2",
        "colab_type": "text"
      },
      "source": [
        "##Task 8\n",
        "Query the list of CITY names starting with vowels (i.e., a, e, i, o, or u) from STATION. Your result cannot contain duplicates.\n",
        "\n",
        "Input Format\n",
        "\n",
        "The STATION table is described as follows: <br>\n",
        "<img src = \"https://s3.amazonaws.com/hr-challenge-images/9336/1449345840-5f0a551030-Station.jpg\" >\n"
      ]
    },
    {
      "cell_type": "code",
      "metadata": {
        "id": "RWRar3_emQ7Y",
        "colab_type": "code",
        "colab": {}
      },
      "source": [
        "SELECT DISTINCT CITY \n",
        "FROM STATION \n",
        "WHERE lower(substr(CITY,1,1)) in ('a','e','i','o','u');"
      ],
      "execution_count": null,
      "outputs": []
    },
    {
      "cell_type": "markdown",
      "metadata": {
        "id": "E1WTjlFPmTfp",
        "colab_type": "text"
      },
      "source": [
        "##Task 9\n",
        "Query the list of CITY names ending with vowels (a, e, i, o, u) from STATION. Your result cannot contain duplicates.\n",
        "\n",
        "Input Format\n",
        "\n",
        "The STATION table is described as follows:<br>\n",
        "<img src =\"https://s3.amazonaws.com/hr-challenge-images/9336/1449345840-5f0a551030-Station.jpg\">\n"
      ]
    },
    {
      "cell_type": "code",
      "metadata": {
        "id": "wQ7n53Lwmp1Z",
        "colab_type": "code",
        "colab": {}
      },
      "source": [
        "SELECT DISTINCT CITY \n",
        "FROM STATION \n",
        "WHERE lower(substr(CITY,LENGTH(CITY),1)) in ('a','e','i','o','u');"
      ],
      "execution_count": null,
      "outputs": []
    },
    {
      "cell_type": "markdown",
      "metadata": {
        "id": "bNSYroclmsPI",
        "colab_type": "text"
      },
      "source": [
        "##Task 10\n",
        "Query the list of CITY names from STATION which have vowels (i.e., a, e, i, o, and u) as both their first and last characters. Your result cannot contain duplicates.\n",
        "\n",
        "Input Format\n",
        "\n",
        "The STATION table is described as follows:<br>\n",
        "<img src =\"https://s3.amazonaws.com/hr-challenge-images/9336/1449345840-5f0a551030-Station.jpg\">"
      ]
    },
    {
      "cell_type": "code",
      "metadata": {
        "id": "PQZ0Tecam6hD",
        "colab_type": "code",
        "colab": {}
      },
      "source": [
        "SELECT DISTINCT CITY \n",
        "FROM STATION \n",
        "WHERE (lower(substr(CITY,LENGTH(CITY),1)) in ('a','e','i','o','u')) AND lower(substr(CITY,1,1)) in ('a','e','i','o','u');"
      ],
      "execution_count": null,
      "outputs": []
    },
    {
      "cell_type": "markdown",
      "metadata": {
        "id": "DJT7d3P6nJx9",
        "colab_type": "text"
      },
      "source": [
        "#Python"
      ]
    },
    {
      "cell_type": "markdown",
      "metadata": {
        "id": "6IwVOztbngOn",
        "colab_type": "text"
      },
      "source": [
        "##Task 1\n",
        "Task\n",
        "Given an integer, perform the following conditional actions:\n",
        "\n",
        "* If n is odd, print `Weird`\n",
        "* If n is even and in the inclusive range of 2 to 5, print `Not Weird`\n",
        "* If n is even and in the inclusive range of 6 to 20, print `Weird`\n",
        "* If n is even and greater than 20, print `Not Weird`\n",
        "\n",
        "Input Format\n",
        "\n",
        "A single line containing a positive integer\n",
        "\n",
        "Output Format\n",
        "\n",
        "Print Weird if the number is weird; otherwise, print Not Weird."
      ]
    },
    {
      "cell_type": "code",
      "metadata": {
        "id": "1BfL6RuLoXFl",
        "colab_type": "code",
        "colab": {
          "base_uri": "https://localhost:8080/",
          "height": 50
        },
        "outputId": "20875d60-60f7-4fe7-8b4f-e16085e6bd29"
      },
      "source": [
        "if __name__ == '__main__':\n",
        "    n = int(input())\n",
        "    # your code here\n",
        "    if n % 2 != 0 or (n >= 6 and n <= 20):\n",
        "      print(\"Weird\")\n",
        "    elif (n >= 2 and n <= 5) or (n > 20):\n",
        "      print(\"Not Weird\")"
      ],
      "execution_count": null,
      "outputs": [
        {
          "output_type": "stream",
          "text": [
            "22\n",
            "Not Weird\n"
          ],
          "name": "stdout"
        }
      ]
    },
    {
      "cell_type": "markdown",
      "metadata": {
        "id": "ZozvHrq_o3VH",
        "colab_type": "text"
      },
      "source": [
        "##Task 2\n",
        "Read two integers from STDIN and print three lines where:\n",
        "<ol>\n",
        "  <li>The first line contains the sum of the two numbers.</li>\n",
        "  <li>The second line contains the difference of the two numbers (first - second).</li>\n",
        "  <li>The third line contains the product of the two numbers.</li>\n",
        "</ol>\n",
        "\n",
        "**Input Format**\n",
        "\n",
        "The first line contains the first integer, **a**. The second line contains the second integer, **b**.\n",
        "\n",
        "**Output Format**\n",
        "\n",
        "Print the three lines as explained above."
      ]
    },
    {
      "cell_type": "code",
      "metadata": {
        "id": "W59QuFDUp8A6",
        "colab_type": "code",
        "colab": {
          "base_uri": "https://localhost:8080/",
          "height": 101
        },
        "outputId": "cac49bdb-b941-400c-e2c6-c4163b4417b5"
      },
      "source": [
        "if __name__ == '__main__':\n",
        "    a = int(input())\n",
        "    b = int(input())\n",
        "    # your code here\n",
        "    print(a+b)\n",
        "    print(a-b)\n",
        "    print(a*b)"
      ],
      "execution_count": null,
      "outputs": [
        {
          "output_type": "stream",
          "text": [
            "6\n",
            "3\n",
            "9\n",
            "3\n",
            "18\n"
          ],
          "name": "stdout"
        }
      ]
    },
    {
      "cell_type": "markdown",
      "metadata": {
        "id": "nRtP3Qt4qWPW",
        "colab_type": "text"
      },
      "source": [
        "#Task 3\n",
        "Task\n",
        "Read an integer $N$. For all non-negative integers $i<N$ , print $i^{2}$. See the sample for details.\n",
        "\n",
        "Input Format\n",
        "\n",
        "The first and only line contains the integer, $N$ .\n",
        "\n",
        "Constraints<br>\n",
        "$1 \\leq N \\leq i$\n",
        "\n",
        "Output Format\n",
        "\n",
        "Print $N$ lines, one corresponding to each $i$."
      ]
    },
    {
      "cell_type": "code",
      "metadata": {
        "id": "vwwkRd5kqPt6",
        "colab_type": "code",
        "colab": {
          "base_uri": "https://localhost:8080/",
          "height": 50
        },
        "outputId": "c431f4b6-d960-426b-cb40-7ec6933e24d9"
      },
      "source": [
        "if __name__ == '__main__':\n",
        "    n = int(input())\n",
        "    # your code here\n",
        "    for i in range(n):\n",
        "      print(i*i)  "
      ],
      "execution_count": null,
      "outputs": [
        {
          "output_type": "stream",
          "text": [
            "10\n",
            "<generator object <genexpr> at 0x7f4f89856b48>\n"
          ],
          "name": "stdout"
        }
      ]
    },
    {
      "cell_type": "markdown",
      "metadata": {
        "id": "6dXblWaxrpaA",
        "colab_type": "text"
      },
      "source": [
        "##Task 4\n",
        "We add a Leap Day on February 29, almost every four years. The leap day is an extra, or intercalary day and we add it to the shortest month of the year, February.<br>\n",
        "\n",
        "In the Gregorian calendar three criteria must be taken into account to identify leap years:\n",
        "<ul>\n",
        "<li>The year can be evenly divided by 4, is a leap year, unless:</li>\n",
        "  <ul><li>The year can be evenly divided by 100, it is NOT a leap year, unless:</li>\n",
        "    <ul><li>The year is also evenly divisible by 400. Then it is a leap year.</li></ul></ul></ul>\n",
        "This means that in the Gregorian calendar, the years 2000 and 2400 are leap years, while 1800, 1900, 2100, 2200, 2300 and 2500 are NOT leap years.Source\n",
        "\n",
        "**Task**<br>\n",
        "<ul>\n",
        "<li>You are given the year, and you have to write a function to check if the year is leap or not.</li>\n",
        "\n",
        "  <li>Note that you have to complete the function and remaining code is given as template.</li>\n",
        "  </ul>\n",
        "\n",
        "**Input Format**\n",
        "\n",
        "Read y, the year that needs to be checked.\n",
        "\n",
        "**Constraints**<br>\n",
        "$1900 \\leq y \\leq 10^{5}$\n",
        "\n",
        "**Output Format**\n",
        "\n",
        "Output is taken care of by the template. Your function must return a boolean value (True/False)\n",
        "\n"
      ]
    },
    {
      "cell_type": "code",
      "metadata": {
        "id": "8W6xXR9NtrUL",
        "colab_type": "code",
        "colab": {
          "base_uri": "https://localhost:8080/",
          "height": 50
        },
        "outputId": "e018ea92-9a34-445d-f790-7979c2480c71"
      },
      "source": [
        "def is_leap(year):\n",
        "  pass\n",
        "  # your code here\n",
        "  if year % 400 == 0:\n",
        "    return True\n",
        "  elif year % 100 == 0:\n",
        "    return False\n",
        "  elif year % 4 == 0:\n",
        "    return True\n",
        "  else:\n",
        "    return False\n",
        "if __name__ == '__main__':\n",
        "  n = int(input())\n",
        "  print(is_leap(n))"
      ],
      "execution_count": null,
      "outputs": [
        {
          "output_type": "stream",
          "text": [
            "1997\n",
            "False\n"
          ],
          "name": "stdout"
        }
      ]
    },
    {
      "cell_type": "markdown",
      "metadata": {
        "id": "B2WQ4__LrpBZ",
        "colab_type": "text"
      },
      "source": [
        "##Task 5\n",
        "Given the participants' score sheet for your University Sports Day, you are required to find the runner-up score. You are given $n$ scores. Store them in a list and find the score of the runner-up.\n",
        "\n",
        "**Input Format**\n",
        "\n",
        "The first line contains $n$ . The second line contains an array $A[]$ of $n$ integers each separated by a space.\n",
        "\n",
        "**Constraints**<br>\n",
        "$2   \\leq n \\leq 10 $<br>\n",
        "$-100 \\leq A[i] \\leq 100 $\n",
        "\n",
        "Output Format\n",
        "\n",
        "Print the runner-up score."
      ]
    },
    {
      "cell_type": "code",
      "metadata": {
        "id": "xp0z6_EEuwFI",
        "colab_type": "code",
        "colab": {
          "base_uri": "https://localhost:8080/",
          "height": 67
        },
        "outputId": "2475e7d5-cd4b-4097-cc4a-8d48761dc46b"
      },
      "source": [
        "if __name__ == '__main__':\n",
        "  n = int(input())\n",
        "  # your code here\n",
        "  A = [int(x) for x in input().split()]\n",
        "  # Set champion, runner_up variable\n",
        "  if A[0] > A[1]:\n",
        "    champion = A[0]\n",
        "    runner_up= A[1]\n",
        "  else:\n",
        "    champion = A[1]\n",
        "    runner_up = A[0]\n",
        "  # Find runner_up\n",
        "  for i in A:\n",
        "    if i >= champion:\n",
        "      runner_up = champion\n",
        "      champion = i\n",
        "    elif i > runner_up:\n",
        "      runner_up = i\n",
        "  # Print runner_up\n",
        "  print(runner_up)\n"
      ],
      "execution_count": null,
      "outputs": [
        {
          "output_type": "stream",
          "text": [
            "6\n",
            "-3 -2 -1 0 1 2\n",
            "1\n"
          ],
          "name": "stdout"
        }
      ]
    },
    {
      "cell_type": "markdown",
      "metadata": {
        "id": "8m5m83dgoGiv",
        "colab_type": "text"
      },
      "source": [
        "# OVERLAPPING\n"
      ]
    },
    {
      "cell_type": "markdown",
      "metadata": {
        "id": "H22Zzpybo8Vm",
        "colab_type": "text"
      },
      "source": [
        "\n",
        "This problem was asked by Snapchat.\n",
        "\n",
        "Given a list of possibly overlapping intervals, return a new list of intervals where all overlapping intervals have been merged.\n",
        "\n",
        "The input list is not necessarily ordered in any way.\n",
        "\n",
        "For example, given [(1, 3), (5, 8), (4, 10), (20, 25)], you should return [(1, 3), (4, 10), (20, 25)]."
      ]
    },
    {
      "cell_type": "markdown",
      "metadata": {
        "id": "lc04o3uDwFuH",
        "colab_type": "text"
      },
      "source": [
        "## Overlapping code"
      ]
    },
    {
      "cell_type": "code",
      "metadata": {
        "id": "1qVQjGmEo9cx",
        "colab_type": "code",
        "colab": {
          "base_uri": "https://localhost:8080/",
          "height": 34
        },
        "outputId": "c90957cd-a963-4527-8fed-fa141c19005e"
      },
      "source": [
        "def overlapping(lst):\n",
        "  sorted(lst)\n",
        "  ans = []\n",
        "  first_mark = lst[0][0]\n",
        "  second_mark = lst[0][1]\n",
        "  for c in lst:\n",
        "    if c[1] > second_mark:\n",
        "      if c[0] > second_mark:\n",
        "        ans.append((first_mark,second_mark))\n",
        "        first_mark = c[0]\n",
        "        second_mark = c[1]\n",
        "      else:\n",
        "        second_mark = c[1]\n",
        "  \n",
        "  if len(ans) ==0  or first_mark != ans[len(ans)-1][0] and second_mark != ans[len(ans)-1][1] :\n",
        "    ans.append((first_mark,second_mark))\n",
        "  return ans\n",
        "\n",
        "A = [(1,3),(5,8),(6,12),(4,10),(20,25),(21,26)]\n",
        "A = sorted(A,key = lambda x: x[0])\n",
        "\n",
        "print(overlapping(A))"
      ],
      "execution_count": null,
      "outputs": [
        {
          "output_type": "stream",
          "text": [
            "[(1, 3), (4, 12), (20, 26)]\n"
          ],
          "name": "stdout"
        }
      ]
    },
    {
      "cell_type": "markdown",
      "metadata": {
        "id": "AtNvIQIcwJqb",
        "colab_type": "text"
      },
      "source": [
        "# Insert palindrome"
      ]
    },
    {
      "cell_type": "markdown",
      "metadata": {
        "id": "ZmmQ4W8Pw7M2",
        "colab_type": "text"
      },
      "source": [
        "You are given a string. The only operation allowed is to insert characters in the beginning of the string. How many minimum characters are needed to be inserted to make the string a palindrome string\n",
        "\n",
        "Example:\n",
        "Input: ABC\n",
        "Output: 2\n",
        "Input: AACECAAAA\n",
        "Output: 2"
      ]
    },
    {
      "cell_type": "markdown",
      "metadata": {
        "id": "f-WkHlxIw_5r",
        "colab_type": "text"
      },
      "source": [
        "## Insert Palindrome code"
      ]
    },
    {
      "cell_type": "code",
      "metadata": {
        "id": "-hE_u7paxD3p",
        "colab_type": "code",
        "colab": {
          "base_uri": "https://localhost:8080/",
          "height": 34
        },
        "outputId": "630583ab-6b3e-4863-c2e0-edc9107117c9"
      },
      "source": [
        "def check_pali(s):\n",
        "  s1 = s[::-1]\n",
        "  if s1 == s: return True\n",
        "  return False\n",
        "\n",
        "def insert_pali(s):\n",
        "  for i in range(len(s)):\n",
        "    if (check_pali(s[0:len(s)-i])):\n",
        "      return i\n",
        "\n",
        "S = \"AACECAAAA\"\n",
        "print(insert_pali(S))"
      ],
      "execution_count": null,
      "outputs": [
        {
          "output_type": "stream",
          "text": [
            "2\n"
          ],
          "name": "stdout"
        }
      ]
    },
    {
      "cell_type": "markdown",
      "metadata": {
        "id": "O15cM8xYW0fq",
        "colab_type": "text"
      },
      "source": [
        "# Queries with aggregates"
      ]
    },
    {
      "cell_type": "code",
      "metadata": {
        "id": "TJQWTrCAW9PS",
        "colab_type": "code",
        "colab": {}
      },
      "source": [
        "# Find the revenue of 2013\n",
        "q = \"\"\"\n",
        "SELECT SUM(TOTAL) as Revenue\n",
        "FROM invoices\n",
        "WHERE InvoiceDate LIKE \"%2013%\"\n",
        "\"\"\"\n",
        "pd.read_sql_query(q,conn)"
      ],
      "execution_count": null,
      "outputs": []
    },
    {
      "cell_type": "code",
      "metadata": {
        "id": "PvssQQsEXWhZ",
        "colab_type": "code",
        "colab": {}
      },
      "source": [
        "# Find the number of tracks belong to the genre Rock\n",
        "q = \"\"\"\n",
        "SELECT tracks.GenreId,genres.Name, COUNT(genres.Name) as Total\n",
        "FROM tracks\n",
        "LEFT OUTER JOIN genres\n",
        "  ON tracks.GenreId = genres.GenreId\n",
        "GROUP BY genres.Name\n",
        "HAVING genres.Name LIKE \"Rock\"\n",
        "\"\"\"\n",
        "pd.read_sql_query(q,conn)"
      ],
      "execution_count": null,
      "outputs": []
    },
    {
      "cell_type": "code",
      "metadata": {
        "id": "36Bo9MPmh8oh",
        "colab_type": "code",
        "colab": {}
      },
      "source": [
        "# Find the number of customers each employee has supported\n",
        "q = \"\"\"\n",
        "SELECT employees.LastName, employees.FirstName, employees.EmployeeId,COUNT(customers.SupportRepId) as Total\n",
        "FROM customers\n",
        "LEFT OUTER JOIN employees\n",
        "  ON customers.SupportRepId = employees.EmployeeId\n",
        "GROUP BY employees.EmployeeId\n",
        "\"\"\"\n",
        "pd.read_sql_query(q,conn)"
      ],
      "execution_count": null,
      "outputs": []
    },
    {
      "cell_type": "code",
      "metadata": {
        "id": "yiGu0k19opjk",
        "colab_type": "code",
        "colab": {}
      },
      "source": [
        "# Find the customer who paid the most\n",
        "q = \"\"\"\n",
        "SELECT customers.CustomerId,FirstName, LastName, SUM(invoices.Total) AS Total\n",
        "FROM customers\n",
        "JOIN invoices\n",
        "  ON customers.CustomerId = invoices.CustomerId\n",
        "GROUP BY invoices.CustomerID\n",
        "ORDER BY Total DESC\n",
        "LIMIT 1\n",
        "\"\"\"\n",
        "pd.read_sql_query(q,conn)"
      ],
      "execution_count": null,
      "outputs": []
    },
    {
      "cell_type": "code",
      "metadata": {
        "id": "C1H7jqu-3APS",
        "colab_type": "code",
        "colab": {}
      },
      "source": [
        "# Find the richest artist\n",
        "q = \"\"\"\n",
        "SELECT Name as Richest_Artist, artists.ArtistId,MAX(Artist_Total.Price_per_artist) as Total_money\n",
        "FROM artists\n",
        "INNER JOIN (SELECT ArtistId,SUM(Album_prices.Total) as Price_per_artist\n",
        "            FROM albums\n",
        "            INNER JOIN (SELECT SUM(tracks.UnitPrice * invoice_items.Quantity) as Total,AlbumId  \n",
        "                        FROM tracks\n",
        "                        INNER JOIN invoice_items\n",
        "                        ON tracks.TrackId = invoice_items.TrackId\n",
        "                        GROUP BY tracks.AlbumId) as Album_prices\n",
        "              ON albums.AlbumId = Album_prices.AlbumId\n",
        "            GROUP BY albums.ArtistId) as Artist_Total\n",
        "  ON artists.ArtistId = Artist_Total.ArtistId\n",
        "\"\"\"\n",
        "pd.read_sql_query(q,conn)"
      ],
      "execution_count": null,
      "outputs": []
    }
  ]
}